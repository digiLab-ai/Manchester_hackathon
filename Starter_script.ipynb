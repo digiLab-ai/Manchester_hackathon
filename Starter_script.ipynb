{
 "cells": [
  {
   "cell_type": "code",
   "execution_count": 9,
   "id": "a0d0de0d-3244-47eb-adf0-ed9af1839646",
   "metadata": {},
   "outputs": [],
   "source": [
    "# Third party imports\n",
    "import numpy as np\n",
    "import pandas as pd\n",
    "import matplotlib.pyplot as plt\n",
    "from itertools import product\n",
    "\n",
    "# twinLab import\n",
    "import twinlab as tl\n",
    "# tl.set_user(\"cyd@\")\n",
    "tl.set_api_key(\"tl_oA4GuDIS9j6MIXEu502IdA\")"
   ]
  },
  {
   "cell_type": "code",
   "execution_count": 10,
   "id": "03f0b4dd-03ac-41b0-baa8-1b9bd001feaa",
   "metadata": {},
   "outputs": [],
   "source": [
    "emulator = tl.Emulator(\"Tritium_Transport_Emulator\")\n",
    "\n",
    "my_priors = [\n",
    "    tl.Prior(\"inlet_press\", tl.distributions.Uniform(20, 50)),\n",
    "    tl.Prior(\"logdiffusivity\", tl.distributions.Uniform(-10, -8)),\n",
    "    # tl.Prior(\"solubility\", tl.distributions.Uniform(0, 0.5)),\n",
    "]\n",
    "\n",
    "initial_design = emulator.design(my_priors, num_points=20)"
   ]
  },
  {
   "cell_type": "code",
   "execution_count": 11,
   "id": "ab51ec51",
   "metadata": {},
   "outputs": [
    {
     "data": {
      "text/plain": [
       "Text(0, 0.5, 'diffusivity')"
      ]
     },
     "execution_count": 11,
     "metadata": {},
     "output_type": "execute_result"
    },
    {
     "data": {
      "image/png": "[encoded data removed]",
      "text/plain": [
       "<Figure size 640x480 with 1 Axes>"
      ]
     },
     "metadata": {},
     "output_type": "display_data"
    }
   ],
   "source": [
    "initial_design\n",
    "\n",
    "fig,axs = plt.subplots(1,1)\n",
    "plt.scatter(initial_design[\"inlet_press\"],initial_design[\"logdiffusivity\"],marker=\"o\")\n",
    "plt.xlabel(\"x (m)\")\n",
    "plt.ylabel(\"diffusivity\")"
   ]
  },
  {
   "cell_type": "code",
   "execution_count": 12,
   "id": "6007b350",
   "metadata": {},
   "outputs": [
    {
     "data": {
      "text/html": [
       "<div>\n",
       "<style scoped>\n",
       "    .dataframe tbody tr th:only-of-type {\n",
       "        vertical-align: middle;\n",
       "    }\n",
       "\n",
       "    .dataframe tbody tr th {\n",
       "        vertical-align: top;\n",
       "    }\n",
       "\n",
       "    .dataframe thead th {\n",
       "        text-align: right;\n",
       "    }\n",
       "</style>\n",
       "<table border=\"1\" class=\"dataframe\">\n",
       "  <thead>\n",
       "    <tr style=\"text-align: right;\">\n",
       "      <th></th>\n",
       "      <th>inlet_press</th>\n",
       "      <th>logdiffusivity</th>\n",
       "    </tr>\n",
       "  </thead>\n",
       "  <tbody>\n",
       "    <tr>\n",
       "      <th>0</th>\n",
       "      <td>34.127044</td>\n",
       "      <td>-9.707893</td>\n",
       "    </tr>\n",
       "    <tr>\n",
       "      <th>1</th>\n",
       "      <td>47.843949</td>\n",
       "      <td>-8.405553</td>\n",
       "    </tr>\n",
       "    <tr>\n",
       "      <th>2</th>\n",
       "      <td>40.328528</td>\n",
       "      <td>-9.417368</td>\n",
       "    </tr>\n",
       "    <tr>\n",
       "      <th>3</th>\n",
       "      <td>36.244117</td>\n",
       "      <td>-8.058757</td>\n",
       "    </tr>\n",
       "    <tr>\n",
       "      <th>4</th>\n",
       "      <td>38.609516</td>\n",
       "      <td>-8.658407</td>\n",
       "    </tr>\n",
       "    <tr>\n",
       "      <th>5</th>\n",
       "      <td>32.107630</td>\n",
       "      <td>-8.361341</td>\n",
       "    </tr>\n",
       "    <tr>\n",
       "      <th>6</th>\n",
       "      <td>28.588878</td>\n",
       "      <td>-9.848724</td>\n",
       "    </tr>\n",
       "    <tr>\n",
       "      <th>7</th>\n",
       "      <td>44.054233</td>\n",
       "      <td>-9.906251</td>\n",
       "    </tr>\n",
       "    <tr>\n",
       "      <th>8</th>\n",
       "      <td>30.890943</td>\n",
       "      <td>-9.362351</td>\n",
       "    </tr>\n",
       "    <tr>\n",
       "      <th>9</th>\n",
       "      <td>29.116870</td>\n",
       "      <td>-8.785685</td>\n",
       "    </tr>\n",
       "    <tr>\n",
       "      <th>10</th>\n",
       "      <td>37.791637</td>\n",
       "      <td>-9.222291</td>\n",
       "    </tr>\n",
       "    <tr>\n",
       "      <th>11</th>\n",
       "      <td>48.993999</td>\n",
       "      <td>-9.564938</td>\n",
       "    </tr>\n",
       "    <tr>\n",
       "      <th>12</th>\n",
       "      <td>25.000092</td>\n",
       "      <td>-9.197982</td>\n",
       "    </tr>\n",
       "    <tr>\n",
       "      <th>13</th>\n",
       "      <td>41.779596</td>\n",
       "      <td>-8.868974</td>\n",
       "    </tr>\n",
       "    <tr>\n",
       "      <th>14</th>\n",
       "      <td>22.131014</td>\n",
       "      <td>-9.697578</td>\n",
       "    </tr>\n",
       "    <tr>\n",
       "      <th>15</th>\n",
       "      <td>23.162019</td>\n",
       "      <td>-8.998550</td>\n",
       "    </tr>\n",
       "    <tr>\n",
       "      <th>16</th>\n",
       "      <td>46.743127</td>\n",
       "      <td>-9.005490</td>\n",
       "    </tr>\n",
       "    <tr>\n",
       "      <th>17</th>\n",
       "      <td>42.726057</td>\n",
       "      <td>-8.239267</td>\n",
       "    </tr>\n",
       "    <tr>\n",
       "      <th>18</th>\n",
       "      <td>27.049538</td>\n",
       "      <td>-8.115292</td>\n",
       "    </tr>\n",
       "    <tr>\n",
       "      <th>19</th>\n",
       "      <td>20.211697</td>\n",
       "      <td>-8.537606</td>\n",
       "    </tr>\n",
       "  </tbody>\n",
       "</table>\n",
       "</div>"
      ],
      "text/plain": [
       "    inlet_press  logdiffusivity\n",
       "0     34.127044       -9.707893\n",
       "1     47.843949       -8.405553\n",
       "2     40.328528       -9.417368\n",
       "3     36.244117       -8.058757\n",
       "4     38.609516       -8.658407\n",
       "5     32.107630       -8.361341\n",
       "6     28.588878       -9.848724\n",
       "7     44.054233       -9.906251\n",
       "8     30.890943       -9.362351\n",
       "9     29.116870       -8.785685\n",
       "10    37.791637       -9.222291\n",
       "11    48.993999       -9.564938\n",
       "12    25.000092       -9.197982\n",
       "13    41.779596       -8.868974\n",
       "14    22.131014       -9.697578\n",
       "15    23.162019       -8.998550\n",
       "16    46.743127       -9.005490\n",
       "17    42.726057       -8.239267\n",
       "18    27.049538       -8.115292\n",
       "19    20.211697       -8.537606"
      ]
     },
     "execution_count": 12,
     "metadata": {},
     "output_type": "execute_result"
    }
   ],
   "source": [
    "initial_design"
   ]
  },
  {
   "cell_type": "code",
   "execution_count": null,
   "id": "e1a2c063",
   "metadata": {},
   "outputs": [],
   "source": [
    "dataout = [\n",
    "    1.09E-89,\n",
    "]"
   ]
  },
  {
   "cell_type": "code",
   "execution_count": null,
   "id": "c5739541",
   "metadata": {},
   "outputs": [],
   "source": []
  }
 ],
 "metadata": {
  "kernelspec": {
   "display_name": "3.11.9",
   "language": "python",
   "name": "python3"
  },
  "language_info": {
   "codemirror_mode": {
    "name": "ipython",
    "version": 3
   },
   "file_extension": ".py",
   "mimetype": "text/x-python",
   "name": "python",
   "nbconvert_exporter": "python",
   "pygments_lexer": "ipython3",
   "version": "3.11.9"
  }
 },
 "nbformat": 4,
 "nbformat_minor": 5
}
