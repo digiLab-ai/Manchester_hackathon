{
 "cells": [
  {
   "cell_type": "code",
   "execution_count": null,
   "id": "a0d0de0d-3244-47eb-adf0-ed9af1839646",
   "metadata": {},
   "outputs": [],
   "source": [
    "# Third party imports\n",
    "import numpy as np\n",
    "import pandas as pd\n",
    "import matplotlib.pyplot as plt\n",
    "from itertools import product\n",
    "\n",
    "# twinLab import\n",
    "import twinlab as tl\n",
    "tl.set_api_key(\"\")"
   ]
  },
  {
   "cell_type": "code",
   "execution_count": 7,
   "id": "03f0b4dd-03ac-41b0-baa8-1b9bd001feaa",
   "metadata": {},
   "outputs": [
    {
     "name": "stdout",
     "output_type": "stream",
     "text": [
      "    Temperatures  Ln_permeation\n",
      "0    1040.721757     -21.287857\n",
      "1     802.000776     -22.947361\n",
      "2     913.661346     -22.063188\n",
      "3     688.130410     -24.144548\n",
      "4     704.106868     -23.953225\n",
      "5    1032.044780     -21.334731\n",
      "6     701.645321     -23.982135\n",
      "7     529.420369     -26.534766\n",
      "8     621.013837     -24.688791\n",
      "9     506.117706     -27.111023\n",
      "10    688.143424     -23.647920\n",
      "11    534.190762     -26.422997\n",
      "12    498.074551     -27.322442\n",
      "13    598.469498     -25.090727\n",
      "14    310.263034     -34.740539\n",
      "15    320.211487     -34.101425\n",
      "16    318.940481     -34.180856\n",
      "17    316.179868     -34.355580\n",
      "18    303.202681     -35.219558\n",
      "19    298.268475     -35.567789\n",
      "20    322.700148     -33.947709\n",
      "21    707.842943     -23.576461\n",
      "22    640.264104     -24.580082\n",
      "23    739.320656     -23.171616\n",
      "24    598.730291     -25.309315\n",
      "25    699.646504     -23.687856\n",
      "26    621.658221     -24.894708\n",
      "27    611.137563     -25.081091\n",
      "28    897.173622     -21.982265\n",
      "29    744.614260     -23.492808\n",
      "30    730.188604     -23.668305\n",
      "31   1020.706152     -21.089975\n",
      "32    893.310045     -22.014152\n",
      "33    921.464256     -21.787915\n",
      "34    745.377687     -23.483709\n",
      "35   1087.645632     -20.929889\n",
      "36   1103.163904     -20.844339\n",
      "37    812.937466     -22.984970\n",
      "38   1099.905215     -20.862104\n",
      "39    948.727517     -21.820385\n",
      "40    844.499619     -22.680873\n",
      "41   1054.002580     -21.124008\n"
     ]
    },
    {
     "data": {
      "image/png": "[encoded data removed]",
      "text/plain": [
       "<Figure size 640x480 with 1 Axes>"
      ]
     },
     "metadata": {},
     "output_type": "display_data"
    }
   ],
   "source": [
    "kb = 8.61733326E-5\n",
    "def Permeation(params,T):\n",
    "    \n",
    "    P = params[\"P0\"]*np.exp(-params[\"Ep\"]/(kb*T))\n",
    "    return P\n",
    "\n",
    "params_DM122 = {\n",
    "\"Ep\" : 0.65,\n",
    "\"P0\" : 2.7E-8,\n",
    "\"Trange\":[673,1073] \n",
    "}\n",
    "\n",
    "params_DM123={\n",
    "\"Ep\" : 0.5,\n",
    "\"P0\" : 1.5E-7, \n",
    "\"Trange\": [673,1073] \n",
    "}\n",
    "\n",
    "# params_DM124={\n",
    "# \"Ep\" : 0.68,\n",
    "# \"P0\" : 3.48E-7, \n",
    "# \"Trange\": [707,900] \n",
    "# }\n",
    "# remove 124 as it is not pure nickel\n",
    "\n",
    "params_DM141={\n",
    "\"Ep\" : 0.5710,\n",
    "\"P0\" : 8.16E-7, \n",
    "\"Trange\": [473,693] \n",
    "}\n",
    "\n",
    "params_DM142={\n",
    "\"Ep\" : 0.550,\n",
    "\"P0\" : 7.02E-7, \n",
    "\"Trange\": [298,353] \n",
    "}\n",
    "\n",
    "params_DM143={\n",
    "\"Ep\" : 0.580,\n",
    "\"P0\" : 7.77E-7, \n",
    "\"Trange\": [573,753] \n",
    "}\n",
    "\n",
    "params_DM144={\n",
    "\"Ep\" : 0.57,\n",
    "\"P0\" : 4.52E-7, \n",
    "\"Trange\": [723,1123] \n",
    "}\n",
    "\n",
    "params_DM145={\n",
    "\"Ep\" : 0.57,\n",
    "\"P0\" : 3.56E-7, \n",
    "\"Trange\": [723,1123] \n",
    "}\n",
    "\n",
    "params_all = [params_DM123,params_DM141,params_DM142,params_DM143,params_DM144,params_DM145]\n",
    "\n",
    "df = pd.DataFrame({\n",
    "    \"Temperatures\": np.array([]),\n",
    "    \"Ln_permeation\": np.array([]),\n",
    "})\n",
    "\n",
    "for Par in params_all:\n",
    "\n",
    "    Ts = np.random.uniform(1/Par[\"Trange\"][1],1/Par[\"Trange\"][0], 7)\n",
    "    Ps = Permeation(Par,1/Ts)\n",
    "    for t in range(len(Ts)):\n",
    "        new_row = {    \"Temperatures\": 1/Ts[t],\n",
    "        \"Ln_permeation\": np.log(Ps[t]),}\n",
    "        df = pd.concat([df, pd.DataFrame([new_row])], ignore_index=True)\n",
    "print(df)\n",
    "\n",
    "plt.plot(df[\"Temperatures\"],df[\"Ln_permeation\"],marker=\"o\",linestyle=\"\")\n",
    "plt.show()\n",
    "\n",
    "train_df = df.copy()\n",
    "# train_df = \n",
    "\n",
    "# # Convert X values to CSV string\n",
    "x_csv = train_df[['Temperatures']].to_csv(index=False)\n",
    "\n",
    "# # Convert Y values to CSV string\n",
    "y_csv = train_df[['Ln_permeation']].to_csv(index=False)"
   ]
  },
  {
   "cell_type": "code",
   "execution_count": 8,
   "id": "53c62334-6ca8-4bfc-8ae2-8c958fe3cf83",
   "metadata": {},
   "outputs": [
    {
     "name": "stdout",
     "output_type": "stream",
     "text": [
      "Dataframe is uploading.\n",
      "Dataset successfully uploaded.\n"
     ]
    }
   ],
   "source": [
    "# Define the name of the dataset\n",
    "dataset_id = \"Tritium_Transport\"\n",
    "\n",
    "# Intialise a Dataset object\n",
    "dataset = tl.Dataset(id=dataset_id)\n",
    "\n",
    "# Upload the dataset\n",
    "dataset.upload(train_df, verbose=True)"
   ]
  },
  {
   "cell_type": "code",
   "execution_count": 9,
   "id": "b4b7f4ec-171c-47ef-a2e2-19a49de29c15",
   "metadata": {},
   "outputs": [
    {
     "name": "stdout",
     "output_type": "stream",
     "text": [
      "Emulator 'Tritium_Transport_Emulator' has begun training.\n",
      "0:00:00: Job status: processing\n",
      "0:00:01: Job status: processing\n",
      "0:00:03: Job status: processing\n",
      "0:00:05: Job status: processing\n",
      "0:00:08: Job status: processing\n",
      "0:00:10: Job status: processing\n",
      "0:00:13: Job status: success\n",
      "Training of emulator Tritium_Transport_Emulator is complete!\n"
     ]
    }
   ],
   "source": [
    "# Initialise emulator\n",
    "emulator_id = \"Tritium_Transport_Emulator\"\n",
    "\n",
    "emulator = tl.Emulator(id=emulator_id)\n",
    "\n",
    "# Define the training parameters for your emulator\n",
    "output_columns = [\"Ln_permeation\"]\n",
    "params = tl.TrainParams(\n",
    "    train_test_ratio=1,\n",
    "    estimator=\"gaussian_process_regression\",\n",
    ")\n",
    "\n",
    "# Train the emulator using the train method\n",
    "emulator.train(\n",
    "    dataset=dataset,\n",
    "    inputs=[\"Temperatures\"],\n",
    "    outputs=output_columns,\n",
    "    params=params,\n",
    "    verbose=True,\n",
    ")"
   ]
  },
  {
   "cell_type": "code",
   "execution_count": 10,
   "id": "3e1085d8-803b-4710-bd09-2ea50dc6d5cf",
   "metadata": {},
   "outputs": [
    {
     "name": "stdout",
     "output_type": "stream",
     "text": [
      "Job predict process ID: predict-magnetic-electric-bonnet\n",
      "0:00:00: Job status: processing\n",
      "0:00:01: Job status: processing\n",
      "0:00:03: Job status: processing\n",
      "0:00:06: Job status: success\n",
      "Mean predictions:\n",
      "     Ln_permeation\n",
      "0       -39.558932\n",
      "1       -39.305527\n",
      "2       -39.045750\n",
      "3       -38.780001\n",
      "4       -38.508694\n",
      "..             ...\n",
      "195     -23.577237\n",
      "196     -23.679771\n",
      "197     -23.782972\n",
      "198     -23.886746\n",
      "199     -23.990995\n",
      "\n",
      "[200 rows x 1 columns]\n",
      "Standard deviation predictions:\n",
      "     Ln_permeation\n",
      "0         0.585543\n",
      "1         0.541669\n",
      "2         0.499734\n",
      "3         0.459817\n",
      "4         0.422002\n",
      "..             ...\n",
      "195       2.881156\n",
      "196       2.940906\n",
      "197       2.999755\n",
      "198       3.057651\n",
      "199       3.114547\n",
      "\n",
      "[200 rows x 1 columns]\n"
     ]
    }
   ],
   "source": [
    "test_df = pd.DataFrame({\"Temperatures\":np.linspace(200,1500,200)})\n",
    "y_pred,y_std = emulator.predict(test_df)"
   ]
  },
  {
   "cell_type": "code",
   "execution_count": 16,
   "id": "7b11933e-8cd6-4855-aca4-b8b607158685",
   "metadata": {},
   "outputs": [
    {
     "data": {
      "text/plain": [
       "<matplotlib.collections.FillBetweenPolyCollection at 0x172bc5650>"
      ]
     },
     "execution_count": 16,
     "metadata": {},
     "output_type": "execute_result"
    },
    {
     "data": {
      "image/png": "[encoded data removed]",
      "text/plain": [
       "<Figure size 640x480 with 1 Axes>"
      ]
     },
     "metadata": {},
     "output_type": "display_data"
    }
   ],
   "source": [
    "plt.plot(test_df,y_pred)\n",
    "plt.fill_between(\n",
    "    test_df[\"Temperatures\"],\n",
    "    (y_pred[\"Ln_permeation\"] -  y_std[\"Ln_permeation\"]),\n",
    "    (y_pred[\"Ln_permeation\"] +  y_std[\"Ln_permeation\"]),\n",
    "    color=\"#16D4C2\",\n",
    "    alpha=0.25,\n",
    "    label=\"Model Confidence Interval\",\n",
    ")"
   ]
  },
  {
   "cell_type": "code",
   "execution_count": 21,
   "id": "81e7fb18-2983-4b3d-8a3e-4e3ced39b737",
   "metadata": {},
   "outputs": [
    {
     "name": "stdout",
     "output_type": "stream",
     "text": [
      "Job calibrate process ID: calibrate-regal-polite-provelone\n",
      "0:00:00: Job status: processing\n",
      "0:00:01: Job status: processing\n",
      "0:00:03: Job status: processing\n",
      "0:00:06: Job status: processing\n",
      "0:00:08: Job status: processing\n",
      "0:00:10: Job status: processing\n",
      "0:00:13: Job status: processing\n",
      "0:00:17: Job status: processing\n",
      "0:00:20: Job status: processing\n",
      "0:00:24: Job status: processing\n",
      "0:00:28: Job status: processing\n",
      "0:00:33: Job status: processing\n",
      "0:00:38: Job status: processing\n",
      "0:00:44: Job status: processing\n",
      "0:00:50: Job status: processing\n",
      "0:00:57: Job status: success\n",
      "Calibration:\n",
      "       chain  draw  Temperatures\n",
      "0          0     0   1066.220391\n",
      "1          0     1   1066.220391\n",
      "2          0     2   1066.220391\n",
      "3          0     3   1066.220391\n",
      "4          0     4   1066.220391\n",
      "...      ...   ...           ...\n",
      "16665      1  8330   1050.876962\n",
      "16666      1  8331   1078.291054\n",
      "16667      1  8332   1078.291054\n",
      "16668      1  8333   1067.554205\n",
      "16669      1  8334   1067.554205\n",
      "\n",
      "[16670 rows x 3 columns]\n"
     ]
    }
   ],
   "source": [
    "df_obs = pd.DataFrame({'Ln_permeation': [-21]})\n",
    "df_std = pd.DataFrame({'Ln_permeation': [0.1]})\n",
    "calib_params = tl.CalibrateParams(return_summary=False)\n",
    "df_calib = emulator.calibrate(df_obs, df_std,params=calib_params)"
   ]
  },
  {
   "cell_type": "code",
   "execution_count": 25,
   "id": "cb1e8935-b58a-4c88-a70a-955464d3de08",
   "metadata": {},
   "outputs": [
    {
     "name": "stdout",
     "output_type": "stream",
     "text": [
      "[1066.22039075 1066.22039075 1066.22039075 ... 1078.29105355 1067.55420545\n",
      " 1067.55420545]\n"
     ]
    }
   ],
   "source": [
    "print(np.array(df_calib[\"Temperatures\"]))"
   ]
  },
  {
   "cell_type": "code",
   "execution_count": null,
   "id": "6007b350",
   "metadata": {},
   "outputs": [],
   "source": []
  }
 ],
 "metadata": {
  "kernelspec": {
   "display_name": "3.11.9",
   "language": "python",
   "name": "python3"
  },
  "language_info": {
   "codemirror_mode": {
    "name": "ipython",
    "version": 3
   },
   "file_extension": ".py",
   "mimetype": "text/x-python",
   "name": "python",
   "nbconvert_exporter": "python",
   "pygments_lexer": "ipython3",
   "version": "3.11.9"
  }
 },
 "nbformat": 4,
 "nbformat_minor": 5
}
